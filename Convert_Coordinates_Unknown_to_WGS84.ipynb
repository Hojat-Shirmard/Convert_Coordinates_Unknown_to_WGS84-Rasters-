{
 "cells": [
  {
   "cell_type": "code",
   "execution_count": 3,
   "id": "204300dc-8b14-4a08-b561-6161808b4c4d",
   "metadata": {},
   "outputs": [
    {
     "name": "stdout",
     "output_type": "stream",
     "text": [
      "Conversion to WGS 1984 complete. Output saved as: output_in_wgs84.tif\n"
     ]
    }
   ],
   "source": [
    "import rasterio\n",
    "from rasterio.warp import calculate_default_transform, reproject, Resampling\n",
    "\n",
    "def convert_to_wgs84(input_tiff, output_tiff):\n",
    "    with rasterio.open(input_tiff) as src:\n",
    "        # Define the target coordinate system (WGS 1984)\n",
    "        dst_crs = 'EPSG:4326'\n",
    "\n",
    "        # Calculate the transformation parameters\n",
    "        transform, width, height = calculate_default_transform(src.crs, dst_crs, src.width, src.height, *src.bounds)\n",
    "\n",
    "        # Update metadata for the new dataset\n",
    "        kwargs = src.meta.copy()\n",
    "        kwargs.update({\n",
    "            'crs': dst_crs,\n",
    "            'transform': transform,\n",
    "            'width': width,\n",
    "            'height': height\n",
    "        })\n",
    "\n",
    "        # Create the output raster\n",
    "        with rasterio.open(output_tiff, 'w', **kwargs) as dst:\n",
    "            # Perform the reprojection\n",
    "            for i in range(1, src.count + 1):\n",
    "                reproject(\n",
    "                    source=rasterio.band(src, i),\n",
    "                    destination=rasterio.band(dst, i),\n",
    "                    src_transform=src.transform,\n",
    "                    src_crs=src.crs,\n",
    "                    dst_transform=transform,\n",
    "                    dst_crs=dst_crs,\n",
    "                    resampling=Resampling.nearest\n",
    "                )\n",
    "\n",
    "# Example usage\n",
    "input_tiff = \"./EMAG2_V3_UpCont_DataTiff.tif\"\n",
    "output_tiff = \"output_in_wgs84.tif\"\n",
    "\n",
    "convert_to_wgs84(input_tiff, output_tiff)\n",
    "print(\"Conversion to WGS 1984 complete. Output saved as:\", output_tiff)\n"
   ]
  }
 ],
 "metadata": {
  "kernelspec": {
   "display_name": "Python 3 (ipykernel)",
   "language": "python",
   "name": "python3"
  },
  "language_info": {
   "codemirror_mode": {
    "name": "ipython",
    "version": 3
   },
   "file_extension": ".py",
   "mimetype": "text/x-python",
   "name": "python",
   "nbconvert_exporter": "python",
   "pygments_lexer": "ipython3",
   "version": "3.12.2"
  }
 },
 "nbformat": 4,
 "nbformat_minor": 5
}
